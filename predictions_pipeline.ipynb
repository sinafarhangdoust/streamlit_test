{
 "cells": [
  {
   "cell_type": "code",
   "execution_count": 1,
   "metadata": {
    "ExecuteTime": {
     "end_time": "2024-08-12T17:20:20.795479Z",
     "start_time": "2024-08-12T17:20:13.722072Z"
    }
   },
   "outputs": [
    {
     "name": "stdout",
     "output_type": "stream",
     "text": [
      "Copy your Api Key (first register/login): https://c.app.hopsworks.ai/account/api/generated\n",
      "Connected. Call `.close()` to terminate connection gracefully.\n"
     ]
    },
    {
     "ename": "RestAPIError",
     "evalue": "Metadata operation error: (url: https://c.app.hopsworks.ai/hopsworks-api/api/variables/docker_base_image_python_version). Server response: \nHTTP code: 401, HTTP reason: Unauthorized, body: b'{\"errorCode\":200003,\"errorMsg\":\"Invalidated Api key.\"}', error code: 200003, error msg: Invalidated Api key., user msg: ",
     "output_type": "error",
     "traceback": [
      "\u001B[0;31m---------------------------------------------------------------------------\u001B[0m",
      "\u001B[0;31mRestAPIError\u001B[0m                              Traceback (most recent call last)",
      "Cell \u001B[0;32mIn[1], line 3\u001B[0m\n\u001B[1;32m      1\u001B[0m \u001B[38;5;28;01mimport\u001B[39;00m \u001B[38;5;21;01mhopsworks\u001B[39;00m\n\u001B[0;32m----> 3\u001B[0m project \u001B[38;5;241m=\u001B[39m \u001B[43mhopsworks\u001B[49m\u001B[38;5;241;43m.\u001B[39;49m\u001B[43mlogin\u001B[49m\u001B[43m(\u001B[49m\u001B[43m)\u001B[49m\n\u001B[1;32m      5\u001B[0m fs \u001B[38;5;241m=\u001B[39m project\u001B[38;5;241m.\u001B[39mget_feature_store()\n\u001B[1;32m      6\u001B[0m mr \u001B[38;5;241m=\u001B[39m project\u001B[38;5;241m.\u001B[39mget_model_registry()\n",
      "File \u001B[0;32m~/Desktop/mlopsbds/venv/lib/python3.11/site-packages/hopsworks/__init__.py:201\u001B[0m, in \u001B[0;36mlogin\u001B[0;34m(host, port, project, api_key_value, api_key_file)\u001B[0m\n\u001B[1;32m    199\u001B[0m \u001B[38;5;28;01mexcept\u001B[39;00m RestAPIError \u001B[38;5;28;01mas\u001B[39;00m e:\n\u001B[1;32m    200\u001B[0m     logout()\n\u001B[0;32m--> 201\u001B[0m     \u001B[38;5;28;01mraise\u001B[39;00m e\n\u001B[1;32m    203\u001B[0m \u001B[38;5;28mprint\u001B[39m(\u001B[38;5;124m\"\u001B[39m\u001B[38;5;130;01m\\n\u001B[39;00m\u001B[38;5;124mLogged in to project, explore it here \u001B[39m\u001B[38;5;124m\"\u001B[39m \u001B[38;5;241m+\u001B[39m _connected_project\u001B[38;5;241m.\u001B[39mget_url())\n\u001B[1;32m    204\u001B[0m \u001B[38;5;28;01mreturn\u001B[39;00m _connected_project\n",
      "File \u001B[0;32m~/Desktop/mlopsbds/venv/lib/python3.11/site-packages/hopsworks/__init__.py:197\u001B[0m, in \u001B[0;36mlogin\u001B[0;34m(host, port, project, api_key_value, api_key_file)\u001B[0m\n\u001B[1;32m    194\u001B[0m         fh\u001B[38;5;241m.\u001B[39mwrite(api_key\u001B[38;5;241m.\u001B[39mstrip())\n\u001B[1;32m    196\u001B[0m \u001B[38;5;28;01mtry\u001B[39;00m:\n\u001B[0;32m--> 197\u001B[0m     _hw_connection \u001B[38;5;241m=\u001B[39m \u001B[43m_hw_connection\u001B[49m\u001B[43m(\u001B[49m\u001B[43mhost\u001B[49m\u001B[38;5;241;43m=\u001B[39;49m\u001B[43mhost\u001B[49m\u001B[43m,\u001B[49m\u001B[43m \u001B[49m\u001B[43mport\u001B[49m\u001B[38;5;241;43m=\u001B[39;49m\u001B[43mport\u001B[49m\u001B[43m,\u001B[49m\u001B[43m \u001B[49m\u001B[43mapi_key_value\u001B[49m\u001B[38;5;241;43m=\u001B[39;49m\u001B[43mapi_key\u001B[49m\u001B[43m)\u001B[49m\n\u001B[1;32m    198\u001B[0m     _connected_project \u001B[38;5;241m=\u001B[39m _prompt_project(_hw_connection, project)\n\u001B[1;32m    199\u001B[0m \u001B[38;5;28;01mexcept\u001B[39;00m RestAPIError \u001B[38;5;28;01mas\u001B[39;00m e:\n",
      "File \u001B[0;32m~/Desktop/mlopsbds/venv/lib/python3.11/site-packages/hopsworks/connection.py:320\u001B[0m, in \u001B[0;36mConnection.connection\u001B[0;34m(cls, host, port, project, hostname_verification, trust_store_path, cert_folder, api_key_file, api_key_value)\u001B[0m\n\u001B[1;32m    307\u001B[0m \u001B[38;5;129m@classmethod\u001B[39m\n\u001B[1;32m    308\u001B[0m \u001B[38;5;28;01mdef\u001B[39;00m \u001B[38;5;21mconnection\u001B[39m(\n\u001B[1;32m    309\u001B[0m     \u001B[38;5;28mcls\u001B[39m,\n\u001B[0;32m   (...)\u001B[0m\n\u001B[1;32m    317\u001B[0m     api_key_value: \u001B[38;5;28mstr\u001B[39m \u001B[38;5;241m=\u001B[39m \u001B[38;5;28;01mNone\u001B[39;00m,\n\u001B[1;32m    318\u001B[0m ):\n\u001B[1;32m    319\u001B[0m \u001B[38;5;250m    \u001B[39m\u001B[38;5;124;03m\"\"\"Connection factory method, accessible through `hopsworks.connection()`.\"\"\"\u001B[39;00m\n\u001B[0;32m--> 320\u001B[0m     \u001B[38;5;28;01mreturn\u001B[39;00m \u001B[38;5;28;43mcls\u001B[39;49m\u001B[43m(\u001B[49m\n\u001B[1;32m    321\u001B[0m \u001B[43m        \u001B[49m\u001B[43mhost\u001B[49m\u001B[43m,\u001B[49m\n\u001B[1;32m    322\u001B[0m \u001B[43m        \u001B[49m\u001B[43mport\u001B[49m\u001B[43m,\u001B[49m\n\u001B[1;32m    323\u001B[0m \u001B[43m        \u001B[49m\u001B[43mproject\u001B[49m\u001B[43m,\u001B[49m\n\u001B[1;32m    324\u001B[0m \u001B[43m        \u001B[49m\u001B[43mhostname_verification\u001B[49m\u001B[43m,\u001B[49m\n\u001B[1;32m    325\u001B[0m \u001B[43m        \u001B[49m\u001B[43mtrust_store_path\u001B[49m\u001B[43m,\u001B[49m\n\u001B[1;32m    326\u001B[0m \u001B[43m        \u001B[49m\u001B[43mcert_folder\u001B[49m\u001B[43m,\u001B[49m\n\u001B[1;32m    327\u001B[0m \u001B[43m        \u001B[49m\u001B[43mapi_key_file\u001B[49m\u001B[43m,\u001B[49m\n\u001B[1;32m    328\u001B[0m \u001B[43m        \u001B[49m\u001B[43mapi_key_value\u001B[49m\u001B[43m,\u001B[49m\n\u001B[1;32m    329\u001B[0m \u001B[43m    \u001B[49m\u001B[43m)\u001B[49m\n",
      "File \u001B[0;32m~/Desktop/mlopsbds/venv/lib/python3.11/site-packages/hopsworks/connection.py:115\u001B[0m, in \u001B[0;36mConnection.__init__\u001B[0;34m(self, host, port, project, hostname_verification, trust_store_path, cert_folder, api_key_file, api_key_value)\u001B[0m\n\u001B[1;32m    112\u001B[0m \u001B[38;5;28mself\u001B[39m\u001B[38;5;241m.\u001B[39m_api_key_value \u001B[38;5;241m=\u001B[39m api_key_value\n\u001B[1;32m    113\u001B[0m \u001B[38;5;28mself\u001B[39m\u001B[38;5;241m.\u001B[39m_connected \u001B[38;5;241m=\u001B[39m \u001B[38;5;28;01mFalse\u001B[39;00m\n\u001B[0;32m--> 115\u001B[0m \u001B[38;5;28;43mself\u001B[39;49m\u001B[38;5;241;43m.\u001B[39;49m\u001B[43mconnect\u001B[49m\u001B[43m(\u001B[49m\u001B[43m)\u001B[49m\n",
      "File \u001B[0;32m~/Desktop/mlopsbds/venv/lib/python3.11/site-packages/hopsworks/decorators.py:25\u001B[0m, in \u001B[0;36mnot_connected.<locals>.if_not_connected\u001B[0;34m(inst, *args, **kwargs)\u001B[0m\n\u001B[1;32m     23\u001B[0m \u001B[38;5;28;01mif\u001B[39;00m inst\u001B[38;5;241m.\u001B[39m_connected:\n\u001B[1;32m     24\u001B[0m     \u001B[38;5;28;01mraise\u001B[39;00m HopsworksConnectionError\n\u001B[0;32m---> 25\u001B[0m \u001B[38;5;28;01mreturn\u001B[39;00m \u001B[43mfn\u001B[49m\u001B[43m(\u001B[49m\u001B[43minst\u001B[49m\u001B[43m,\u001B[49m\u001B[43m \u001B[49m\u001B[38;5;241;43m*\u001B[39;49m\u001B[43margs\u001B[49m\u001B[43m,\u001B[49m\u001B[43m \u001B[49m\u001B[38;5;241;43m*\u001B[39;49m\u001B[38;5;241;43m*\u001B[39;49m\u001B[43mkwargs\u001B[49m\u001B[43m)\u001B[49m\n",
      "File \u001B[0;32m~/Desktop/mlopsbds/venv/lib/python3.11/site-packages/hopsworks/connection.py:273\u001B[0m, in \u001B[0;36mConnection.connect\u001B[0;34m(self)\u001B[0m\n\u001B[1;32m    267\u001B[0m \u001B[38;5;28mprint\u001B[39m(\n\u001B[1;32m    268\u001B[0m     \u001B[38;5;124m\"\u001B[39m\u001B[38;5;124mConnected. Call `.close()` to terminate connection gracefully.\u001B[39m\u001B[38;5;124m\"\u001B[39m,\n\u001B[1;32m    269\u001B[0m     flush\u001B[38;5;241m=\u001B[39m\u001B[38;5;28;01mTrue\u001B[39;00m,\n\u001B[1;32m    270\u001B[0m )\n\u001B[1;32m    272\u001B[0m \u001B[38;5;28mself\u001B[39m\u001B[38;5;241m.\u001B[39m_check_compatibility()\n\u001B[0;32m--> 273\u001B[0m \u001B[38;5;28;43mself\u001B[39;49m\u001B[38;5;241;43m.\u001B[39;49m\u001B[43m_set_client_variables\u001B[49m\u001B[43m(\u001B[49m\u001B[43m)\u001B[49m\n",
      "File \u001B[0;32m~/Desktop/mlopsbds/venv/lib/python3.11/site-packages/hopsworks/connection.py:218\u001B[0m, in \u001B[0;36mConnection._set_client_variables\u001B[0;34m(self)\u001B[0m\n\u001B[1;32m    217\u001B[0m \u001B[38;5;28;01mdef\u001B[39;00m \u001B[38;5;21m_set_client_variables\u001B[39m(\u001B[38;5;28mself\u001B[39m):\n\u001B[0;32m--> 218\u001B[0m     python_version \u001B[38;5;241m=\u001B[39m \u001B[38;5;28;43mself\u001B[39;49m\u001B[38;5;241;43m.\u001B[39;49m\u001B[43m_variable_api\u001B[49m\u001B[38;5;241;43m.\u001B[39;49m\u001B[43mget_variable\u001B[49m\u001B[43m(\u001B[49m\n\u001B[1;32m    219\u001B[0m \u001B[43m        \u001B[49m\u001B[38;5;124;43m\"\u001B[39;49m\u001B[38;5;124;43mdocker_base_image_python_version\u001B[39;49m\u001B[38;5;124;43m\"\u001B[39;49m\n\u001B[1;32m    220\u001B[0m \u001B[43m    \u001B[49m\u001B[43m)\u001B[49m\n\u001B[1;32m    221\u001B[0m     client\u001B[38;5;241m.\u001B[39mset_python_version(python_version)\n",
      "File \u001B[0;32m~/Desktop/mlopsbds/venv/lib/python3.11/site-packages/hopsworks/core/variable_api.py:30\u001B[0m, in \u001B[0;36mVariableApi.get_variable\u001B[0;34m(self, variable)\u001B[0m\n\u001B[1;32m     27\u001B[0m _client \u001B[38;5;241m=\u001B[39m client\u001B[38;5;241m.\u001B[39mget_instance()\n\u001B[1;32m     29\u001B[0m path_params \u001B[38;5;241m=\u001B[39m [\u001B[38;5;124m\"\u001B[39m\u001B[38;5;124mvariables\u001B[39m\u001B[38;5;124m\"\u001B[39m, variable]\n\u001B[0;32m---> 30\u001B[0m domain \u001B[38;5;241m=\u001B[39m \u001B[43m_client\u001B[49m\u001B[38;5;241;43m.\u001B[39;49m\u001B[43m_send_request\u001B[49m\u001B[43m(\u001B[49m\u001B[38;5;124;43m\"\u001B[39;49m\u001B[38;5;124;43mGET\u001B[39;49m\u001B[38;5;124;43m\"\u001B[39;49m\u001B[43m,\u001B[49m\u001B[43m \u001B[49m\u001B[43mpath_params\u001B[49m\u001B[43m)\u001B[49m\n\u001B[1;32m     32\u001B[0m \u001B[38;5;28;01mreturn\u001B[39;00m domain[\u001B[38;5;124m\"\u001B[39m\u001B[38;5;124msuccessMessage\u001B[39m\u001B[38;5;124m\"\u001B[39m]\n",
      "File \u001B[0;32m~/Desktop/mlopsbds/venv/lib/python3.11/site-packages/hopsworks/decorators.py:35\u001B[0m, in \u001B[0;36mconnected.<locals>.if_connected\u001B[0;34m(inst, *args, **kwargs)\u001B[0m\n\u001B[1;32m     33\u001B[0m \u001B[38;5;28;01mif\u001B[39;00m \u001B[38;5;129;01mnot\u001B[39;00m inst\u001B[38;5;241m.\u001B[39m_connected:\n\u001B[1;32m     34\u001B[0m     \u001B[38;5;28;01mraise\u001B[39;00m NoHopsworksConnectionError\n\u001B[0;32m---> 35\u001B[0m \u001B[38;5;28;01mreturn\u001B[39;00m \u001B[43mfn\u001B[49m\u001B[43m(\u001B[49m\u001B[43minst\u001B[49m\u001B[43m,\u001B[49m\u001B[43m \u001B[49m\u001B[38;5;241;43m*\u001B[39;49m\u001B[43margs\u001B[49m\u001B[43m,\u001B[49m\u001B[43m \u001B[49m\u001B[38;5;241;43m*\u001B[39;49m\u001B[38;5;241;43m*\u001B[39;49m\u001B[43mkwargs\u001B[49m\u001B[43m)\u001B[49m\n",
      "File \u001B[0;32m~/Desktop/mlopsbds/venv/lib/python3.11/site-packages/hopsworks/client/base.py:174\u001B[0m, in \u001B[0;36mClient._send_request\u001B[0;34m(self, method, path_params, query_params, headers, data, stream, files, with_base_path_params)\u001B[0m\n\u001B[1;32m    171\u001B[0m     response \u001B[38;5;241m=\u001B[39m \u001B[38;5;28mself\u001B[39m\u001B[38;5;241m.\u001B[39m_session\u001B[38;5;241m.\u001B[39msend(prepped, verify\u001B[38;5;241m=\u001B[39m\u001B[38;5;28mself\u001B[39m\u001B[38;5;241m.\u001B[39m_verify, stream\u001B[38;5;241m=\u001B[39mstream)\n\u001B[1;32m    173\u001B[0m \u001B[38;5;28;01mif\u001B[39;00m response\u001B[38;5;241m.\u001B[39mstatus_code \u001B[38;5;241m/\u001B[39m\u001B[38;5;241m/\u001B[39m \u001B[38;5;241m100\u001B[39m \u001B[38;5;241m!=\u001B[39m \u001B[38;5;241m2\u001B[39m:\n\u001B[0;32m--> 174\u001B[0m     \u001B[38;5;28;01mraise\u001B[39;00m exceptions\u001B[38;5;241m.\u001B[39mRestAPIError(url, response)\n\u001B[1;32m    176\u001B[0m \u001B[38;5;28;01mif\u001B[39;00m stream:\n\u001B[1;32m    177\u001B[0m     \u001B[38;5;28;01mreturn\u001B[39;00m response\n",
      "\u001B[0;31mRestAPIError\u001B[0m: Metadata operation error: (url: https://c.app.hopsworks.ai/hopsworks-api/api/variables/docker_base_image_python_version). Server response: \nHTTP code: 401, HTTP reason: Unauthorized, body: b'{\"errorCode\":200003,\"errorMsg\":\"Invalidated Api key.\"}', error code: 200003, error msg: Invalidated Api key., user msg: "
     ]
    }
   ],
   "source": [
    "import hopsworks\n",
    "\n",
    "project = hopsworks.login()\n",
    "\n",
    "fs = project.get_feature_store()\n",
    "mr = project.get_model_registry()"
   ]
  },
  {
   "cell_type": "code",
   "execution_count": 2,
   "metadata": {},
   "outputs": [],
   "source": [
    "feature_view = fs.get_feature_view(\n",
    "    name='bitcoin_price_movement_training_fv',\n",
    "    version=2\n",
    ")"
   ]
  },
  {
   "cell_type": "code",
   "execution_count": 3,
   "metadata": {},
   "outputs": [],
   "source": [
    "bitcoin_fg = fs.get_feature_group(\n",
    "    name='bitcoin_price_movement',\n",
    "    version=2\n",
    ")"
   ]
  },
  {
   "cell_type": "code",
   "execution_count": 4,
   "metadata": {},
   "outputs": [],
   "source": [
    "data = bitcoin_fg.select_all()\n",
    "version = 2\n",
    "feature_view = fs.get_or_create_feature_view(\n",
    "    name='bitcoin_price_movement_training_fv',\n",
    "    version=version,\n",
    "    query=data\n",
    ")"
   ]
  },
  {
   "cell_type": "code",
   "execution_count": 5,
   "metadata": {},
   "outputs": [
    {
     "name": "stdout",
     "output_type": "stream",
     "text": [
      "Finished: Reading data from Hopsworks, using ArrowFlight (1.27s) \n"
     ]
    }
   ],
   "source": [
    "df = feature_view.get_batch_data()"
   ]
  },
  {
   "cell_type": "code",
   "outputs": [],
   "source": [
    "\n",
    "import datetime as dt\n",
    "from features import feature_engineering"
   ],
   "metadata": {
    "collapsed": false,
    "ExecuteTime": {
     "end_time": "2024-08-12T17:34:43.741359Z",
     "start_time": "2024-08-12T17:34:43.739980Z"
    }
   },
   "execution_count": 3
  },
  {
   "cell_type": "code",
   "outputs": [
    {
     "name": "stderr",
     "output_type": "stream",
     "text": [
      "[*********************100%%**********************]  1 of 1 completed\n",
      "[*********************100%%**********************]  1 of 1 completed"
     ]
    },
    {
     "name": "stdout",
     "output_type": "stream",
     "text": [
      "2024-08-12 19:36:03,606 WARNING: FutureWarning: Series.fillna with 'method' is deprecated and will raise in a future version. Use obj.ffill() or obj.bfill() instead.\n"
     ]
    },
    {
     "name": "stderr",
     "output_type": "stream",
     "text": [
      "\n",
      "[*********************100%%**********************]  1 of 1 completed\n",
      "[*********************100%%**********************]  1 of 1 completed"
     ]
    },
    {
     "name": "stdout",
     "output_type": "stream",
     "text": [
      "2024-08-12 19:36:04,034 WARNING: FutureWarning: Series.fillna with 'method' is deprecated and will raise in a future version. Use obj.ffill() or obj.bfill() instead.\n",
      "\n",
      "2024-08-12 19:36:04,036 WARNING: FutureWarning: Series.fillna with 'method' is deprecated and will raise in a future version. Use obj.ffill() or obj.bfill() instead.\n"
     ]
    },
    {
     "name": "stderr",
     "output_type": "stream",
     "text": [
      "\n"
     ]
    },
    {
     "name": "stdout",
     "output_type": "stream",
     "text": [
      "2024-08-12 19:36:04,328 WARNING: FutureWarning: Series.fillna with 'method' is deprecated and will raise in a future version. Use obj.ffill() or obj.bfill() instead.\n"
     ]
    }
   ],
   "source": [
    "start_date = dt.date(2016,1,1)\n",
    "end_date = dt.date.today() - dt.timedelta(days=1)\n",
    "df = feature_engineering.prepare_data(start_date=start_date, end_date=end_date)"
   ],
   "metadata": {
    "collapsed": false,
    "ExecuteTime": {
     "end_time": "2024-08-12T17:36:04.336434Z",
     "start_time": "2024-08-12T17:36:03.294854Z"
    }
   },
   "execution_count": 7
  },
  {
   "cell_type": "code",
   "outputs": [
    {
     "data": {
      "text/plain": "           date       open       high        low      close       volume  \\\n2    2016-01-23   382.4340   394.5430   381.9810   387.4910     56247400   \n3    2016-01-24   388.1020   405.4850   387.5100   402.9710     54824800   \n4    2016-01-25   402.3170   402.3170   388.5540   391.7260     59062400   \n5    2016-01-26   392.0020   397.7660   390.5750   392.1530     58147000   \n6    2016-01-27   392.4440   396.8430   391.7820   394.9720     47424400   \n...         ...        ...        ...        ...        ...          ...   \n3120 2024-08-06 53991.3477 57059.9180 53973.2734 56034.3164  49300484106   \n3121 2024-08-07 56040.6328 57726.8828 54620.5078 55027.4609  41637562185   \n3122 2024-08-08 55030.0273 62673.7656 54766.7266 61710.1367  45298472567   \n3123 2024-08-09 61728.2070 61751.8633 59587.8594 60880.1133  33425553115   \n3124 2024-08-10 60881.2305 61464.5117 60287.5664 60945.8125  15745822278   \n\n            ma7       ma21  bollinger_upper  bollinger_lower       lag7  \\\n2      392.8701   418.0857         475.7586         360.4128   387.5360   \n3      395.8233   416.7981         474.5601         359.0361   382.2990   \n4      396.4744   414.8283         473.0760         356.5807   387.1680   \n5      398.1893   412.9328         471.4292         354.4364   380.1490   \n6      394.5810   411.3074         469.8133         352.8014   420.2300   \n...         ...        ...              ...              ...        ...   \n3120 60030.6657 64380.9678       72530.9288       56231.0068 66201.0156   \n3121 58660.4102 63948.0472       73064.9859       54831.1086 64619.2500   \n3122 58139.3583 63840.2411       73009.2798       54671.2024 65357.5000   \n3123 58062.9364 63562.6200       72719.7348       54405.5052 61415.0664   \n3124 58100.8962 63266.5326       72336.2956       54196.7695 60680.0938   \n\n      volatility  close_usd_index  close_oil  close_gold      hash_rate    id  \n2        15.7785          99.5700    32.1900   1097.2000   1008642.2324     1  \n3        15.4002          99.5700    32.1900   1097.2000   1008642.2324     2  \n4        15.0660          99.3600    30.3400   1106.2000   1008642.2324     3  \n5        13.4999          99.3600    31.4500   1121.7000   1008642.2324     4  \n6         9.3710          98.9000    32.3000   1116.1000    918901.0182     5  \n...          ...              ...        ...         ...            ...   ...  \n3120   4240.1581         102.9700    73.2000   2389.1001 644509048.8165  3119  \n3121   4056.0119         103.2000    75.2300   2390.5000 644509048.8165  3120  \n3122   3195.2243         103.2100    76.1900   2422.2000 581410260.8205  3121  \n3123   3109.0551         103.1400    76.8400   2432.1001 581410260.8205  3122  \n3124   3147.7166         103.1400    76.8400   2432.1001 581410260.8205  3123  \n\n[3123 rows x 17 columns]",
      "text/html": "<div>\n<style scoped>\n    .dataframe tbody tr th:only-of-type {\n        vertical-align: middle;\n    }\n\n    .dataframe tbody tr th {\n        vertical-align: top;\n    }\n\n    .dataframe thead th {\n        text-align: right;\n    }\n</style>\n<table border=\"1\" class=\"dataframe\">\n  <thead>\n    <tr style=\"text-align: right;\">\n      <th></th>\n      <th>date</th>\n      <th>open</th>\n      <th>high</th>\n      <th>low</th>\n      <th>close</th>\n      <th>volume</th>\n      <th>ma7</th>\n      <th>ma21</th>\n      <th>bollinger_upper</th>\n      <th>bollinger_lower</th>\n      <th>lag7</th>\n      <th>volatility</th>\n      <th>close_usd_index</th>\n      <th>close_oil</th>\n      <th>close_gold</th>\n      <th>hash_rate</th>\n      <th>id</th>\n    </tr>\n  </thead>\n  <tbody>\n    <tr>\n      <th>2</th>\n      <td>2016-01-23</td>\n      <td>382.4340</td>\n      <td>394.5430</td>\n      <td>381.9810</td>\n      <td>387.4910</td>\n      <td>56247400</td>\n      <td>392.8701</td>\n      <td>418.0857</td>\n      <td>475.7586</td>\n      <td>360.4128</td>\n      <td>387.5360</td>\n      <td>15.7785</td>\n      <td>99.5700</td>\n      <td>32.1900</td>\n      <td>1097.2000</td>\n      <td>1008642.2324</td>\n      <td>1</td>\n    </tr>\n    <tr>\n      <th>3</th>\n      <td>2016-01-24</td>\n      <td>388.1020</td>\n      <td>405.4850</td>\n      <td>387.5100</td>\n      <td>402.9710</td>\n      <td>54824800</td>\n      <td>395.8233</td>\n      <td>416.7981</td>\n      <td>474.5601</td>\n      <td>359.0361</td>\n      <td>382.2990</td>\n      <td>15.4002</td>\n      <td>99.5700</td>\n      <td>32.1900</td>\n      <td>1097.2000</td>\n      <td>1008642.2324</td>\n      <td>2</td>\n    </tr>\n    <tr>\n      <th>4</th>\n      <td>2016-01-25</td>\n      <td>402.3170</td>\n      <td>402.3170</td>\n      <td>388.5540</td>\n      <td>391.7260</td>\n      <td>59062400</td>\n      <td>396.4744</td>\n      <td>414.8283</td>\n      <td>473.0760</td>\n      <td>356.5807</td>\n      <td>387.1680</td>\n      <td>15.0660</td>\n      <td>99.3600</td>\n      <td>30.3400</td>\n      <td>1106.2000</td>\n      <td>1008642.2324</td>\n      <td>3</td>\n    </tr>\n    <tr>\n      <th>5</th>\n      <td>2016-01-26</td>\n      <td>392.0020</td>\n      <td>397.7660</td>\n      <td>390.5750</td>\n      <td>392.1530</td>\n      <td>58147000</td>\n      <td>398.1893</td>\n      <td>412.9328</td>\n      <td>471.4292</td>\n      <td>354.4364</td>\n      <td>380.1490</td>\n      <td>13.4999</td>\n      <td>99.3600</td>\n      <td>31.4500</td>\n      <td>1121.7000</td>\n      <td>1008642.2324</td>\n      <td>4</td>\n    </tr>\n    <tr>\n      <th>6</th>\n      <td>2016-01-27</td>\n      <td>392.4440</td>\n      <td>396.8430</td>\n      <td>391.7820</td>\n      <td>394.9720</td>\n      <td>47424400</td>\n      <td>394.5810</td>\n      <td>411.3074</td>\n      <td>469.8133</td>\n      <td>352.8014</td>\n      <td>420.2300</td>\n      <td>9.3710</td>\n      <td>98.9000</td>\n      <td>32.3000</td>\n      <td>1116.1000</td>\n      <td>918901.0182</td>\n      <td>5</td>\n    </tr>\n    <tr>\n      <th>...</th>\n      <td>...</td>\n      <td>...</td>\n      <td>...</td>\n      <td>...</td>\n      <td>...</td>\n      <td>...</td>\n      <td>...</td>\n      <td>...</td>\n      <td>...</td>\n      <td>...</td>\n      <td>...</td>\n      <td>...</td>\n      <td>...</td>\n      <td>...</td>\n      <td>...</td>\n      <td>...</td>\n      <td>...</td>\n    </tr>\n    <tr>\n      <th>3120</th>\n      <td>2024-08-06</td>\n      <td>53991.3477</td>\n      <td>57059.9180</td>\n      <td>53973.2734</td>\n      <td>56034.3164</td>\n      <td>49300484106</td>\n      <td>60030.6657</td>\n      <td>64380.9678</td>\n      <td>72530.9288</td>\n      <td>56231.0068</td>\n      <td>66201.0156</td>\n      <td>4240.1581</td>\n      <td>102.9700</td>\n      <td>73.2000</td>\n      <td>2389.1001</td>\n      <td>644509048.8165</td>\n      <td>3119</td>\n    </tr>\n    <tr>\n      <th>3121</th>\n      <td>2024-08-07</td>\n      <td>56040.6328</td>\n      <td>57726.8828</td>\n      <td>54620.5078</td>\n      <td>55027.4609</td>\n      <td>41637562185</td>\n      <td>58660.4102</td>\n      <td>63948.0472</td>\n      <td>73064.9859</td>\n      <td>54831.1086</td>\n      <td>64619.2500</td>\n      <td>4056.0119</td>\n      <td>103.2000</td>\n      <td>75.2300</td>\n      <td>2390.5000</td>\n      <td>644509048.8165</td>\n      <td>3120</td>\n    </tr>\n    <tr>\n      <th>3122</th>\n      <td>2024-08-08</td>\n      <td>55030.0273</td>\n      <td>62673.7656</td>\n      <td>54766.7266</td>\n      <td>61710.1367</td>\n      <td>45298472567</td>\n      <td>58139.3583</td>\n      <td>63840.2411</td>\n      <td>73009.2798</td>\n      <td>54671.2024</td>\n      <td>65357.5000</td>\n      <td>3195.2243</td>\n      <td>103.2100</td>\n      <td>76.1900</td>\n      <td>2422.2000</td>\n      <td>581410260.8205</td>\n      <td>3121</td>\n    </tr>\n    <tr>\n      <th>3123</th>\n      <td>2024-08-09</td>\n      <td>61728.2070</td>\n      <td>61751.8633</td>\n      <td>59587.8594</td>\n      <td>60880.1133</td>\n      <td>33425553115</td>\n      <td>58062.9364</td>\n      <td>63562.6200</td>\n      <td>72719.7348</td>\n      <td>54405.5052</td>\n      <td>61415.0664</td>\n      <td>3109.0551</td>\n      <td>103.1400</td>\n      <td>76.8400</td>\n      <td>2432.1001</td>\n      <td>581410260.8205</td>\n      <td>3122</td>\n    </tr>\n    <tr>\n      <th>3124</th>\n      <td>2024-08-10</td>\n      <td>60881.2305</td>\n      <td>61464.5117</td>\n      <td>60287.5664</td>\n      <td>60945.8125</td>\n      <td>15745822278</td>\n      <td>58100.8962</td>\n      <td>63266.5326</td>\n      <td>72336.2956</td>\n      <td>54196.7695</td>\n      <td>60680.0938</td>\n      <td>3147.7166</td>\n      <td>103.1400</td>\n      <td>76.8400</td>\n      <td>2432.1001</td>\n      <td>581410260.8205</td>\n      <td>3123</td>\n    </tr>\n  </tbody>\n</table>\n<p>3123 rows × 17 columns</p>\n</div>"
     },
     "execution_count": 8,
     "metadata": {},
     "output_type": "execute_result"
    }
   ],
   "source": [
    "df"
   ],
   "metadata": {
    "collapsed": false,
    "ExecuteTime": {
     "end_time": "2024-08-12T17:36:08.573810Z",
     "start_time": "2024-08-12T17:36:08.553760Z"
    }
   },
   "execution_count": 8
  },
  {
   "cell_type": "code",
   "execution_count": 10,
   "metadata": {
    "ExecuteTime": {
     "end_time": "2024-08-12T17:36:18.704124Z",
     "start_time": "2024-08-12T17:36:18.698720Z"
    }
   },
   "outputs": [],
   "source": [
    "sorted_df = df.sort_values(by='id')"
   ]
  },
  {
   "cell_type": "code",
   "execution_count": 11,
   "metadata": {
    "ExecuteTime": {
     "end_time": "2024-08-12T17:36:20.811685Z",
     "start_time": "2024-08-12T17:36:20.794668Z"
    }
   },
   "outputs": [],
   "source": [
    "import numpy as np\n",
    "\n",
    "high_prices = sorted_df.loc[:, 'high'].values\n",
    "low_prices = sorted_df.loc[:, 'low'].values\n",
    "mid_prices = (high_prices + low_prices) / 2.0\n",
    "\n",
    "mid_price_changes = np.diff(mid_prices) / mid_prices[:-1] * 100\n",
    "mid_price_changes = np.insert(mid_price_changes, 0, 0)\n",
    "\n",
    "features = sorted_df[['volume', 'ma7', 'ma21', 'bollinger_upper', 'bollinger_lower', 'volatility', 'close_usd_index', 'close_oil', 'close_gold', 'hash_rate']].values\n",
    "feature_changes = np.diff(features, axis=0) / features[:-1] * 100\n",
    "feature_changes = np.insert(feature_changes, 0, 0, axis=0)\n",
    "\n",
    "combined_features = np.column_stack((mid_price_changes.reshape(-1, 1), feature_changes))"
   ]
  },
  {
   "cell_type": "code",
   "execution_count": 12,
   "metadata": {
    "ExecuteTime": {
     "end_time": "2024-08-12T17:36:23.303958Z",
     "start_time": "2024-08-12T17:36:23.295950Z"
    }
   },
   "outputs": [],
   "source": [
    "sequence_length = 100\n",
    "sequence_data = []\n",
    "sequence_labels = []\n",
    "\n",
    "for i in range(len(combined_features) - sequence_length):\n",
    "    sequence_data.append(combined_features[i:i + sequence_length])\n",
    "    # Labels based on whether the next mid_price_change is positive (1) or negative (0)\n",
    "    sequence_labels.append(1 if mid_price_changes[i + sequence_length] > 0 else 0)\n",
    "\n",
    "sequence_data = np.array(sequence_data)\n",
    "sequence_labels = np.array(sequence_labels)"
   ]
  },
  {
   "cell_type": "code",
   "execution_count": 13,
   "metadata": {
    "ExecuteTime": {
     "end_time": "2024-08-12T17:36:36.986511Z",
     "start_time": "2024-08-12T17:36:35.975881Z"
    }
   },
   "outputs": [],
   "source": [
    "import torch\n",
    "import torch.nn as nn\n",
    "import torch.optim as optim\n",
    "from torch.utils.data import DataLoader, TensorDataset\n",
    "from sklearn.metrics import classification_report\n",
    "\n",
    "split_index = int(len(sequence_data) * 0.8)\n",
    "train_data = sequence_data[:split_index]\n",
    "train_labels = sequence_labels[:split_index]\n",
    "test_data = sequence_data[split_index:]\n",
    "test_labels = sequence_labels[split_index:]\n",
    "\n",
    "train_data = TensorDataset(torch.from_numpy(train_data), torch.from_numpy(train_labels))\n",
    "test_data = TensorDataset(torch.from_numpy(test_data), torch.from_numpy(test_labels))\n",
    "\n",
    "train_loader = DataLoader(train_data, batch_size=32, shuffle=True)\n",
    "test_loader = DataLoader(test_data, batch_size=32, shuffle=False)"
   ]
  },
  {
   "cell_type": "code",
   "execution_count": 14,
   "metadata": {
    "ExecuteTime": {
     "end_time": "2024-08-12T17:36:42.309395Z",
     "start_time": "2024-08-12T17:36:41.681843Z"
    }
   },
   "outputs": [],
   "source": [
    "# Creating LSTM model class, which defines the model's structure\n",
    "# We added dropout layer too, to try to tackle overfitting problem\n",
    "class LSTMModel(nn.Module):\n",
    "    def __init__(self, input_size, hidden_size, output_size):\n",
    "        super(LSTMModel, self).__init__()\n",
    "        self.lstm = nn.LSTM(input_size, hidden_size, batch_first=True)\n",
    "        self.fc = nn.Linear(hidden_size, output_size)\n",
    "        self.dropout = nn.Dropout(0.2)\n",
    "\n",
    "    def forward(self, x):\n",
    "        lstm_out, _ = self.lstm(x)\n",
    "        out = self.fc(self.dropout(lstm_out[:, -1, :]))\n",
    "        return out\n",
    "\n",
    "# Setting the input size of the model to match the number of features\n",
    "# Setting the number of neurons (hidden size) to 50\n",
    "# Setting the size of the output to 1, indicating that we will predict a single value (increase or decrease of the price)\n",
    "input_size = combined_features.shape[1]\n",
    "hidden_size = 30\n",
    "output_size = 1\n",
    "\n",
    "model = LSTMModel(input_size, hidden_size, output_size)\n",
    "\n",
    "# Hyperparameters\n",
    "epochs = 50\n",
    "learning_rate = 0.001\n",
    "\n",
    "train_losses = []\n",
    "test_losses = []\n",
    "\n",
    "# Early stopping parameters, these are added because early stopping method can reduce the risk of overfitting\n",
    "# Early stopping stops the training process when the model's performance doesn't improve on a validation set anymore\n",
    "# The patience parameter tells us through how many epochs we wait for improvement. If no improvement can be seen after 10, the training stops\n",
    "# We track the loss of the model and stop when we don't see improvement on it\n",
    "patience = 10\n",
    "best_loss = float('inf')\n",
    "epochs_no_improve = 0\n",
    "\n",
    "# We use Binary Cross Entropy Loss function and combine it with a sigmoid layer in one function, which is needed for the classification problem\n",
    "# We use Adam optimiser to adjust the parameters of the model to minimise loss during training\n",
    "criterion = nn.BCEWithLogitsLoss()\n",
    "optimizer = optim.Adam(model.parameters(), lr=learning_rate)"
   ]
  },
  {
   "cell_type": "code",
   "execution_count": 15,
   "metadata": {
    "ExecuteTime": {
     "end_time": "2024-08-12T17:36:54.886016Z",
     "start_time": "2024-08-12T17:36:54.830997Z"
    }
   },
   "outputs": [
    {
     "ename": "NameError",
     "evalue": "name 'mr' is not defined",
     "output_type": "error",
     "traceback": [
      "\u001B[0;31m---------------------------------------------------------------------------\u001B[0m",
      "\u001B[0;31mNameError\u001B[0m                                 Traceback (most recent call last)",
      "Cell \u001B[0;32mIn[15], line 2\u001B[0m\n\u001B[1;32m      1\u001B[0m \u001B[38;5;28;01mimport\u001B[39;00m \u001B[38;5;21;01mtorch\u001B[39;00m\n\u001B[0;32m----> 2\u001B[0m model \u001B[38;5;241m=\u001B[39m \u001B[43mmr\u001B[49m\u001B[38;5;241m.\u001B[39mget_model(\n\u001B[1;32m      3\u001B[0m     name\u001B[38;5;241m=\u001B[39m\u001B[38;5;124m\"\u001B[39m\u001B[38;5;124mbitcoin_price_movement_prediction_model_lstm\u001B[39m\u001B[38;5;124m\"\u001B[39m, \n\u001B[1;32m      4\u001B[0m     version\u001B[38;5;241m=\u001B[39m\u001B[38;5;241m1\u001B[39m\n\u001B[1;32m      5\u001B[0m )\n\u001B[1;32m      7\u001B[0m saved_model_dir \u001B[38;5;241m=\u001B[39m model\u001B[38;5;241m.\u001B[39mdownload()\n\u001B[1;32m      9\u001B[0m lstm_model \u001B[38;5;241m=\u001B[39m LSTMModel(input_size, hidden_size, output_size)\n",
      "\u001B[0;31mNameError\u001B[0m: name 'mr' is not defined"
     ]
    }
   ],
   "source": [
    "import torch\n",
    "model = mr.get_model(\n",
    "    name=\"bitcoin_price_movement_prediction_model_lstm\", \n",
    "    version=1\n",
    ")\n",
    "\n",
    "saved_model_dir = model.download()\n",
    "\n",
    "lstm_model = LSTMModel(input_size, hidden_size, output_size)\n",
    "lstm_model.load_state_dict(torch.load(saved_model_dir + \"/bitcoin_price_movement_prediction_lstm.pth\"))\n",
    "lstm_model.eval()"
   ]
  },
  {
   "cell_type": "code",
   "outputs": [
    {
     "name": "stdout",
     "output_type": "stream",
     "text": [
      "2024-08-12 20:04:01,996 WARNING: FutureWarning: You are using `torch.load` with `weights_only=False` (the current default value), which uses the default pickle module implicitly. It is possible to construct malicious pickle data which will execute arbitrary code during unpickling (See https://github.com/pytorch/pytorch/blob/main/SECURITY.md#untrusted-models for more details). In a future release, the default value for `weights_only` will be flipped to `True`. This limits the functions that could be executed during unpickling. Arbitrary objects will no longer be allowed to be loaded via this mode unless they are explicitly allowlisted by the user via `torch.serialization.add_safe_globals`. We recommend you start setting `weights_only=True` for any use case where you don't have full control of the loaded file. Please open an issue on GitHub for any issues related to this experimental feature.\n"
     ]
    },
    {
     "data": {
      "text/plain": "LSTMModel(\n  (lstm): LSTM(11, 30, batch_first=True)\n  (fc): Linear(in_features=30, out_features=1, bias=True)\n  (dropout): Dropout(p=0.2, inplace=False)\n)"
     },
     "execution_count": 19,
     "metadata": {},
     "output_type": "execute_result"
    }
   ],
   "source": [
    "import os\n",
    "#import the model from the local directory\n",
    "lstm_model = LSTMModel(input_size, hidden_size, output_size)\n",
    "\n",
    "saved_model_dir = './lstm_model'\n",
    "\n",
    "lstm_model.load_state_dict(torch.load(os.path.join(saved_model_dir, \"best_model.pth\")))\n",
    "\n",
    "lstm_model.eval()"
   ],
   "metadata": {
    "collapsed": false,
    "ExecuteTime": {
     "end_time": "2024-08-12T18:04:02.153409Z",
     "start_time": "2024-08-12T18:04:02.000427Z"
    }
   },
   "execution_count": 19
  },
  {
   "cell_type": "code",
   "execution_count": 20,
   "metadata": {
    "ExecuteTime": {
     "end_time": "2024-08-12T18:04:07.231453Z",
     "start_time": "2024-08-12T18:04:07.221141Z"
    }
   },
   "outputs": [],
   "source": [
    "def predict(model, data_loader):\n",
    "    model.eval()\n",
    "    predictions = []\n",
    "    true_labels = []\n",
    "\n",
    "    with torch.no_grad():\n",
    "        for data, label in data_loader:\n",
    "            data = data.float()\n",
    "            output = model(data)\n",
    "            predicted = torch.sigmoid(output).squeeze().tolist()\n",
    "            predictions.extend(predicted)\n",
    "            true_labels.extend(label.squeeze().tolist())\n",
    "\n",
    "    predictions = [1 if p >= 0.5 else 0 for p in predictions]\n",
    "    true_labels = [1 if a >= 0.5 else 0 for a in true_labels]\n",
    "\n",
    "    return predictions, true_labels"
   ]
  },
  {
   "cell_type": "code",
   "execution_count": 21,
   "metadata": {
    "ExecuteTime": {
     "end_time": "2024-08-12T18:04:11.552718Z",
     "start_time": "2024-08-12T18:04:11.439481Z"
    }
   },
   "outputs": [
    {
     "name": "stdout",
     "output_type": "stream",
     "text": [
      "              precision    recall  f1-score   support\n",
      "\n",
      "           0       0.56      0.48      0.52       266\n",
      "           1       0.64      0.71      0.67       339\n",
      "\n",
      "    accuracy                           0.61       605\n",
      "   macro avg       0.60      0.59      0.59       605\n",
      "weighted avg       0.60      0.61      0.60       605\n"
     ]
    }
   ],
   "source": [
    "predictions, labels = predict(lstm_model, test_loader)\n",
    "\n",
    "predictions = np.array(predictions)\n",
    "true_labels = np.array(labels)\n",
    "\n",
    "print(classification_report(true_labels, predictions))"
   ]
  },
  {
   "cell_type": "code",
   "execution_count": 25,
   "metadata": {
    "ExecuteTime": {
     "end_time": "2024-08-12T18:05:11.142057Z",
     "start_time": "2024-08-12T18:05:11.116365Z"
    }
   },
   "outputs": [
    {
     "name": "stdout",
     "output_type": "stream",
     "text": [
      "Future Predictions for next 2 days: ['Decrease', 'Decrease']\n"
     ]
    }
   ],
   "source": [
    "# This function creates forecasted values into the future, based on the latest sequence\n",
    "# It outputs a prediction whether the price would increase or decrease in the given time steps ahead in the future\n",
    "def forecast(model, data, sequence_length, steps_ahead):\n",
    "    model.eval()\n",
    "\n",
    "    data = np.array(data)\n",
    "    \n",
    "    current_sequence = data[-sequence_length:].reshape(1, sequence_length, -1)\n",
    "    predictions = []\n",
    "\n",
    "    with torch.no_grad():\n",
    "        for _ in range(steps_ahead):\n",
    "            input_seq = torch.tensor(current_sequence, dtype=torch.float32)\n",
    "            \n",
    "            output = model(input_seq)\n",
    "            predicted_value = torch.sigmoid(output).item()\n",
    "            \n",
    "            predicted_class = 1 if predicted_value >= 0.5 else 0\n",
    "            \n",
    "            predictions.append(predicted_class)\n",
    "            \n",
    "            new_sequence = np.append(current_sequence[0, 1:, :], [[predicted_class] * current_sequence.shape[2]], axis=0)\n",
    "            current_sequence = new_sequence.reshape(1, sequence_length, -1)\n",
    "    \n",
    "    return predictions\n",
    "\n",
    "# We use the forecast function on the combined dataset, for 2 days ahead in the future and print the predictions\n",
    "all_data = np.concatenate((train_data.tensors[0].numpy(), test_data.tensors[0].numpy())).reshape(-1, input_size)\n",
    "steps_ahead = 2\n",
    "future_predictions = forecast(lstm_model, all_data, sequence_length, steps_ahead)\n",
    "movement_interpretation = ['Increase' if pred == 1 else 'Decrease' for pred in future_predictions]\n",
    "\n",
    "print('Future Predictions for next 2 days:', movement_interpretation)"
   ]
  }
 ],
 "metadata": {
  "kernelspec": {
   "display_name": "Python 3",
   "language": "python",
   "name": "python3"
  },
  "language_info": {
   "codemirror_mode": {
    "name": "ipython",
    "version": 3
   },
   "file_extension": ".py",
   "mimetype": "text/x-python",
   "name": "python",
   "nbconvert_exporter": "python",
   "pygments_lexer": "ipython3",
   "version": "3.11.9"
  }
 },
 "nbformat": 4,
 "nbformat_minor": 2
}
