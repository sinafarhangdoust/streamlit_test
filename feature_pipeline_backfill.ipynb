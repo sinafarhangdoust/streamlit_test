{
 "cells": [
  {
   "cell_type": "code",
   "execution_count": 1,
   "metadata": {},
   "outputs": [],
   "source": [
    "import datetime as dt\n",
    "from features import feature_engineering"
   ]
  },
  {
   "cell_type": "code",
   "execution_count": 2,
   "metadata": {},
   "outputs": [
    {
     "name": "stderr",
     "output_type": "stream",
     "text": [
      "[*********************100%%**********************]  1 of 1 completed\n",
      "[*********************100%%**********************]  1 of 1 completed\n",
      "c:\\Users\\hubak\\Desktop\\mlopsproject\\features\\feature_engineering.py:45: FutureWarning: Series.fillna with 'method' is deprecated and will raise in a future version. Use obj.ffill() or obj.bfill() instead.\n",
      "  df_merged[f'close{column_suffix}'].fillna(method='ffill', inplace=True)\n",
      "[*********************100%%**********************]  1 of 1 completed\n",
      "[*********************100%%**********************]  1 of 1 completed\n",
      "c:\\Users\\hubak\\Desktop\\mlopsproject\\features\\feature_engineering.py:45: FutureWarning: Series.fillna with 'method' is deprecated and will raise in a future version. Use obj.ffill() or obj.bfill() instead.\n",
      "  df_merged[f'close{column_suffix}'].fillna(method='ffill', inplace=True)\n",
      "c:\\Users\\hubak\\Desktop\\mlopsproject\\features\\feature_engineering.py:45: FutureWarning: Series.fillna with 'method' is deprecated and will raise in a future version. Use obj.ffill() or obj.bfill() instead.\n",
      "  df_merged[f'close{column_suffix}'].fillna(method='ffill', inplace=True)\n",
      "c:\\Users\\hubak\\Desktop\\mlopsproject\\features\\feature_engineering.py:81: FutureWarning: Series.fillna with 'method' is deprecated and will raise in a future version. Use obj.ffill() or obj.bfill() instead.\n",
      "  df_merged['hash_rate'].fillna(method='ffill', inplace=True)\n"
     ]
    }
   ],
   "source": [
    "start_date = dt.date(2015, 1, 1)\n",
    "end_date = dt.date.today()\n",
    "df = feature_engineering.prepare_data(start_date=start_date, end_date=end_date)"
   ]
  },
  {
   "cell_type": "code",
   "execution_count": 3,
   "metadata": {},
   "outputs": [
    {
     "data": {
      "text/html": [
       "<div>\n",
       "<style scoped>\n",
       "    .dataframe tbody tr th:only-of-type {\n",
       "        vertical-align: middle;\n",
       "    }\n",
       "\n",
       "    .dataframe tbody tr th {\n",
       "        vertical-align: top;\n",
       "    }\n",
       "\n",
       "    .dataframe thead th {\n",
       "        text-align: right;\n",
       "    }\n",
       "</style>\n",
       "<table border=\"1\" class=\"dataframe\">\n",
       "  <thead>\n",
       "    <tr style=\"text-align: right;\">\n",
       "      <th></th>\n",
       "      <th>date</th>\n",
       "      <th>open</th>\n",
       "      <th>high</th>\n",
       "      <th>low</th>\n",
       "      <th>close</th>\n",
       "      <th>volume</th>\n",
       "      <th>ma7</th>\n",
       "      <th>ma21</th>\n",
       "      <th>bollinger_upper</th>\n",
       "      <th>bollinger_lower</th>\n",
       "      <th>lag7</th>\n",
       "      <th>volatility</th>\n",
       "      <th>close_usd_index</th>\n",
       "      <th>close_oil</th>\n",
       "      <th>close_gold</th>\n",
       "      <th>hash_rate</th>\n",
       "      <th>id</th>\n",
       "    </tr>\n",
       "  </thead>\n",
       "  <tbody>\n",
       "    <tr>\n",
       "      <th>3486</th>\n",
       "      <td>2024-08-07</td>\n",
       "      <td>56040.6328</td>\n",
       "      <td>57726.8828</td>\n",
       "      <td>54620.5078</td>\n",
       "      <td>55027.4609</td>\n",
       "      <td>41637562185</td>\n",
       "      <td>58660.4102</td>\n",
       "      <td>63948.0472</td>\n",
       "      <td>73064.9859</td>\n",
       "      <td>54831.1086</td>\n",
       "      <td>64619.2500</td>\n",
       "      <td>4056.0119</td>\n",
       "      <td>103.2000</td>\n",
       "      <td>75.2300</td>\n",
       "      <td>2390.5000</td>\n",
       "      <td>644509048.8165</td>\n",
       "      <td>3484</td>\n",
       "    </tr>\n",
       "    <tr>\n",
       "      <th>3487</th>\n",
       "      <td>2024-08-08</td>\n",
       "      <td>55030.0273</td>\n",
       "      <td>62673.7656</td>\n",
       "      <td>54766.7266</td>\n",
       "      <td>61710.1367</td>\n",
       "      <td>45298472567</td>\n",
       "      <td>58139.3583</td>\n",
       "      <td>63840.2411</td>\n",
       "      <td>73009.2798</td>\n",
       "      <td>54671.2024</td>\n",
       "      <td>65357.5000</td>\n",
       "      <td>3195.2243</td>\n",
       "      <td>103.2100</td>\n",
       "      <td>76.1900</td>\n",
       "      <td>2422.2000</td>\n",
       "      <td>581410260.8205</td>\n",
       "      <td>3485</td>\n",
       "    </tr>\n",
       "    <tr>\n",
       "      <th>3488</th>\n",
       "      <td>2024-08-09</td>\n",
       "      <td>61728.2070</td>\n",
       "      <td>61751.8633</td>\n",
       "      <td>59587.8594</td>\n",
       "      <td>60880.1133</td>\n",
       "      <td>33425553115</td>\n",
       "      <td>58062.9364</td>\n",
       "      <td>63562.6200</td>\n",
       "      <td>72719.7348</td>\n",
       "      <td>54405.5052</td>\n",
       "      <td>61415.0664</td>\n",
       "      <td>3109.0551</td>\n",
       "      <td>103.1400</td>\n",
       "      <td>76.8400</td>\n",
       "      <td>2432.1001</td>\n",
       "      <td>581410260.8205</td>\n",
       "      <td>3486</td>\n",
       "    </tr>\n",
       "    <tr>\n",
       "      <th>3489</th>\n",
       "      <td>2024-08-10</td>\n",
       "      <td>60881.2305</td>\n",
       "      <td>61464.5117</td>\n",
       "      <td>60287.5664</td>\n",
       "      <td>60945.8125</td>\n",
       "      <td>15745822278</td>\n",
       "      <td>58100.8962</td>\n",
       "      <td>63266.5326</td>\n",
       "      <td>72336.2956</td>\n",
       "      <td>54196.7695</td>\n",
       "      <td>60680.0938</td>\n",
       "      <td>3147.7166</td>\n",
       "      <td>103.1400</td>\n",
       "      <td>76.8400</td>\n",
       "      <td>2432.1001</td>\n",
       "      <td>581410260.8205</td>\n",
       "      <td>3487</td>\n",
       "    </tr>\n",
       "    <tr>\n",
       "      <th>3490</th>\n",
       "      <td>2024-08-11</td>\n",
       "      <td>60944.8906</td>\n",
       "      <td>61778.6602</td>\n",
       "      <td>58348.8242</td>\n",
       "      <td>58719.4844</td>\n",
       "      <td>22759754812</td>\n",
       "      <td>58186.9688</td>\n",
       "      <td>62817.2450</td>\n",
       "      <td>71804.4265</td>\n",
       "      <td>53830.0635</td>\n",
       "      <td>58116.9766</td>\n",
       "      <td>3156.4551</td>\n",
       "      <td>103.1400</td>\n",
       "      <td>76.8400</td>\n",
       "      <td>2432.1001</td>\n",
       "      <td>581410260.8205</td>\n",
       "      <td>3488</td>\n",
       "    </tr>\n",
       "  </tbody>\n",
       "</table>\n",
       "</div>"
      ],
      "text/plain": [
       "           date       open       high        low      close       volume  \\\n",
       "3486 2024-08-07 56040.6328 57726.8828 54620.5078 55027.4609  41637562185   \n",
       "3487 2024-08-08 55030.0273 62673.7656 54766.7266 61710.1367  45298472567   \n",
       "3488 2024-08-09 61728.2070 61751.8633 59587.8594 60880.1133  33425553115   \n",
       "3489 2024-08-10 60881.2305 61464.5117 60287.5664 60945.8125  15745822278   \n",
       "3490 2024-08-11 60944.8906 61778.6602 58348.8242 58719.4844  22759754812   \n",
       "\n",
       "            ma7       ma21  bollinger_upper  bollinger_lower       lag7  \\\n",
       "3486 58660.4102 63948.0472       73064.9859       54831.1086 64619.2500   \n",
       "3487 58139.3583 63840.2411       73009.2798       54671.2024 65357.5000   \n",
       "3488 58062.9364 63562.6200       72719.7348       54405.5052 61415.0664   \n",
       "3489 58100.8962 63266.5326       72336.2956       54196.7695 60680.0938   \n",
       "3490 58186.9688 62817.2450       71804.4265       53830.0635 58116.9766   \n",
       "\n",
       "      volatility  close_usd_index  close_oil  close_gold      hash_rate    id  \n",
       "3486   4056.0119         103.2000    75.2300   2390.5000 644509048.8165  3484  \n",
       "3487   3195.2243         103.2100    76.1900   2422.2000 581410260.8205  3485  \n",
       "3488   3109.0551         103.1400    76.8400   2432.1001 581410260.8205  3486  \n",
       "3489   3147.7166         103.1400    76.8400   2432.1001 581410260.8205  3487  \n",
       "3490   3156.4551         103.1400    76.8400   2432.1001 581410260.8205  3488  "
      ]
     },
     "execution_count": 3,
     "metadata": {},
     "output_type": "execute_result"
    }
   ],
   "source": [
    "df.tail()"
   ]
  },
  {
   "cell_type": "code",
   "execution_count": 4,
   "metadata": {},
   "outputs": [
    {
     "name": "stdout",
     "output_type": "stream",
     "text": [
      "<class 'pandas.core.frame.DataFrame'>\n",
      "Index: 3488 entries, 3 to 3490\n",
      "Data columns (total 17 columns):\n",
      " #   Column           Non-Null Count  Dtype         \n",
      "---  ------           --------------  -----         \n",
      " 0   date             3488 non-null   datetime64[ns]\n",
      " 1   open             3488 non-null   float64       \n",
      " 2   high             3488 non-null   float64       \n",
      " 3   low              3488 non-null   float64       \n",
      " 4   close            3488 non-null   float64       \n",
      " 5   volume           3488 non-null   int64         \n",
      " 6   ma7              3488 non-null   float64       \n",
      " 7   ma21             3488 non-null   float64       \n",
      " 8   bollinger_upper  3488 non-null   float64       \n",
      " 9   bollinger_lower  3488 non-null   float64       \n",
      " 10  lag7             3488 non-null   float64       \n",
      " 11  volatility       3488 non-null   float64       \n",
      " 12  close_usd_index  3488 non-null   float64       \n",
      " 13  close_oil        3488 non-null   float64       \n",
      " 14  close_gold       3488 non-null   float64       \n",
      " 15  hash_rate        3488 non-null   float64       \n",
      " 16  id               3488 non-null   int64         \n",
      "dtypes: datetime64[ns](1), float64(14), int64(2)\n",
      "memory usage: 490.5 KB\n"
     ]
    }
   ],
   "source": [
    "df.info()"
   ]
  },
  {
   "cell_type": "code",
   "execution_count": 5,
   "metadata": {},
   "outputs": [
    {
     "name": "stderr",
     "output_type": "stream",
     "text": [
      "C:\\Users\\hubak\\AppData\\Local\\Packages\\PythonSoftwareFoundation.Python.3.11_qbz5n2kfra8p0\\LocalCache\\local-packages\\Python311\\site-packages\\tqdm\\auto.py:21: TqdmWarning: IProgress not found. Please update jupyter and ipywidgets. See https://ipywidgets.readthedocs.io/en/stable/user_install.html\n",
      "  from .autonotebook import tqdm as notebook_tqdm\n"
     ]
    },
    {
     "name": "stdout",
     "output_type": "stream",
     "text": [
      "Connected. Call `.close()` to terminate connection gracefully.\n",
      "\n",
      "Logged in to project, explore it here https://c.app.hopsworks.ai:443/p/556181\n",
      "Connected. Call `.close()` to terminate connection gracefully.\n"
     ]
    }
   ],
   "source": [
    "import hopsworks\n",
    "\n",
    "project = hopsworks.login()\n",
    "\n",
    "fs = project.get_feature_store()"
   ]
  },
  {
   "cell_type": "code",
   "execution_count": 6,
   "metadata": {},
   "outputs": [
    {
     "name": "stdout",
     "output_type": "stream",
     "text": [
      "Feature Group created successfully, explore it at \n",
      "https://c.app.hopsworks.ai:443/p/556181/fs/552004/fg/1092948\n"
     ]
    },
    {
     "name": "stderr",
     "output_type": "stream",
     "text": [
      "Uploading Dataframe: 100.00% |██████████| Rows 3488/3488 | Elapsed Time: 00:07 | Remaining Time: 00:00\n"
     ]
    },
    {
     "name": "stdout",
     "output_type": "stream",
     "text": [
      "Launching job: bitcoin_price_movement_2_offline_fg_materialization\n",
      "Job started successfully, you can follow the progress at \n",
      "https://c.app.hopsworks.ai/p/556181/jobs/named/bitcoin_price_movement_2_offline_fg_materialization/executions\n"
     ]
    },
    {
     "data": {
      "text/plain": [
       "(<hsfs.core.job.Job at 0x200031b5ad0>, None)"
      ]
     },
     "execution_count": 6,
     "metadata": {},
     "output_type": "execute_result"
    }
   ],
   "source": [
    "btc_price_movement_prediction_fg = fs.get_or_create_feature_group(\n",
    "    name='bitcoin_price_movement',\n",
    "    description='Historical data about features that help to predict the price movements of Bitcoin',\n",
    "    version=2,\n",
    "    primary_key=['id'],\n",
    "    event_time='date'\n",
    ")\n",
    "\n",
    "btc_price_movement_prediction_fg.insert(df)"
   ]
  }
 ],
 "metadata": {
  "kernelspec": {
   "display_name": "Python 3",
   "language": "python",
   "name": "python3"
  },
  "language_info": {
   "codemirror_mode": {
    "name": "ipython",
    "version": 3
   },
   "file_extension": ".py",
   "mimetype": "text/x-python",
   "name": "python",
   "nbconvert_exporter": "python",
   "pygments_lexer": "ipython3",
   "version": "3.11.9"
  }
 },
 "nbformat": 4,
 "nbformat_minor": 2
}
