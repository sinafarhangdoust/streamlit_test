{
 "cells": [
  {
   "cell_type": "code",
   "execution_count": 1,
   "metadata": {},
   "outputs": [
    {
     "name": "stderr",
     "output_type": "stream",
     "text": [
      "C:\\Users\\hubak\\AppData\\Local\\Packages\\PythonSoftwareFoundation.Python.3.11_qbz5n2kfra8p0\\LocalCache\\local-packages\\Python311\\site-packages\\tqdm\\auto.py:21: TqdmWarning: IProgress not found. Please update jupyter and ipywidgets. See https://ipywidgets.readthedocs.io/en/stable/user_install.html\n",
      "  from .autonotebook import tqdm as notebook_tqdm\n"
     ]
    },
    {
     "name": "stdout",
     "output_type": "stream",
     "text": [
      "Connected. Call `.close()` to terminate connection gracefully.\n",
      "\n",
      "Logged in to project, explore it here https://c.app.hopsworks.ai:443/p/556181\n",
      "Connected. Call `.close()` to terminate connection gracefully.\n"
     ]
    }
   ],
   "source": [
    "import hopsworks\n",
    "\n",
    "project = hopsworks.login()\n",
    "\n",
    "fs = project.get_feature_store()"
   ]
  },
  {
   "cell_type": "code",
   "execution_count": 2,
   "metadata": {},
   "outputs": [],
   "source": [
    "bitcoin_fg = fs.get_feature_group(\n",
    "    name='bitcoin_price_movement',\n",
    "    version=2\n",
    ")"
   ]
  },
  {
   "cell_type": "code",
   "execution_count": 3,
   "metadata": {},
   "outputs": [],
   "source": [
    "training_data = bitcoin_fg.select_all()"
   ]
  },
  {
   "cell_type": "code",
   "execution_count": 4,
   "metadata": {},
   "outputs": [],
   "source": [
    "version = 2\n",
    "feature_view_training = fs.get_or_create_feature_view(\n",
    "    name='bitcoin_price_movement_training_fv',\n",
    "    version=version,\n",
    "    query=training_data\n",
    ")"
   ]
  },
  {
   "cell_type": "code",
   "execution_count": 5,
   "metadata": {},
   "outputs": [
    {
     "name": "stdout",
     "output_type": "stream",
     "text": [
      "Finished: Reading data from Hopsworks, using ArrowFlight (1.36s) \n"
     ]
    },
    {
     "name": "stderr",
     "output_type": "stream",
     "text": [
      "VersionWarning: Incremented version to `7`.\n"
     ]
    }
   ],
   "source": [
    "X, _ = feature_view_training.training_data(\n",
    "    description='Training data for the prediction system from the historically available data.'\n",
    ")"
   ]
  },
  {
   "cell_type": "code",
   "execution_count": 6,
   "metadata": {},
   "outputs": [],
   "source": [
    "import pandas as pd\n",
    "pd.options.display.float_format = '{:.4f}'.format\n",
    "sorted_X = X.sort_values(by='id')\n",
    "sorted_X['date'] = pd.to_datetime(sorted_X['date'])"
   ]
  },
  {
   "cell_type": "code",
   "execution_count": 7,
   "metadata": {},
   "outputs": [],
   "source": [
    "final_X = sorted_X.drop(columns=['id', 'date'])"
   ]
  },
  {
   "cell_type": "code",
   "execution_count": 8,
   "metadata": {},
   "outputs": [],
   "source": [
    "import numpy as np\n",
    "high_prices = final_X.loc[:, 'high'].values\n",
    "low_prices = final_X.loc[:, 'low'].values\n",
    "mid_prices = (high_prices + low_prices) / 2.0\n",
    "\n",
    "mid_price_changes = np.diff(mid_prices) / mid_prices[:-1] * 100\n",
    "mid_price_changes = np.insert(mid_price_changes, 0, 0)\n",
    "\n",
    "features = final_X[['volume', 'ma7', 'ma21', 'bollinger_upper', 'bollinger_lower', 'volatility', 'close_usd_index', 'close_oil', 'close_gold', 'hash_rate']].values\n",
    "feature_changes = np.diff(features, axis=0) / features[:-1] * 100\n",
    "feature_changes = np.insert(feature_changes, 0, 0, axis=0)\n",
    "\n",
    "combined_features = np.column_stack((mid_price_changes.reshape(-1, 1), feature_changes))"
   ]
  },
  {
   "cell_type": "code",
   "execution_count": 9,
   "metadata": {},
   "outputs": [],
   "source": [
    "sequence_length = 100\n",
    "sequence_data = []\n",
    "sequence_labels = []\n",
    "\n",
    "for i in range(len(combined_features) - sequence_length):\n",
    "    sequence_data.append(combined_features[i:i + sequence_length])\n",
    "    # Labels based on whether the next mid_price_change is positive (1) or negative (0)\n",
    "    sequence_labels.append(1 if mid_price_changes[i + sequence_length] > 0 else 0)\n",
    "\n",
    "sequence_data = np.array(sequence_data)\n",
    "sequence_labels = np.array(sequence_labels)"
   ]
  },
  {
   "cell_type": "code",
   "execution_count": 10,
   "metadata": {},
   "outputs": [],
   "source": [
    "import torch\n",
    "import torch.nn as nn\n",
    "import torch.optim as optim\n",
    "from torch.utils.data import DataLoader, TensorDataset\n",
    "from sklearn.metrics import classification_report"
   ]
  },
  {
   "cell_type": "code",
   "execution_count": 11,
   "metadata": {},
   "outputs": [],
   "source": [
    "# Splitting the data into training and test sets, split at 80% of the data\n",
    "split_index = int(len(sequence_data) * 0.8)\n",
    "train_data = sequence_data[:split_index]\n",
    "train_labels = sequence_labels[:split_index]\n",
    "test_data = sequence_data[split_index:]\n",
    "test_labels = sequence_labels[split_index:]\n",
    "\n",
    "# We need to convert the to PyTorch tensors format in order for the model to work efficiently\n",
    "train_data = TensorDataset(torch.from_numpy(train_data), torch.from_numpy(train_labels))\n",
    "test_data = TensorDataset(torch.from_numpy(test_data), torch.from_numpy(test_labels))\n",
    "\n",
    "train_loader = DataLoader(train_data, batch_size=32, shuffle=True)\n",
    "test_loader = DataLoader(test_data, batch_size=32, shuffle=False)"
   ]
  },
  {
   "cell_type": "code",
   "execution_count": 12,
   "metadata": {},
   "outputs": [],
   "source": [
    "class GRUModel(nn.Module):\n",
    "    def __init__(self, input_size, hidden_size, output_size):\n",
    "        super(GRUModel, self).__init__()\n",
    "        self.gru = nn.GRU(input_size, hidden_size, batch_first=True)\n",
    "        self.fc = nn.Linear(hidden_size, output_size)\n",
    "        self.dropout = nn.Dropout(0.2)\n",
    "\n",
    "    def forward(self, x):\n",
    "        gru_out, _ = self.gru(x)\n",
    "        out = self.fc(self.dropout(gru_out[:, -1, :]))\n",
    "        return out\n",
    "\n",
    "input_size = combined_features.shape[1]\n",
    "hidden_size = 30\n",
    "output_size = 1\n",
    "\n",
    "model = GRUModel(input_size, hidden_size, output_size)\n",
    "\n",
    "epochs = 50\n",
    "learning_rate = 0.001\n",
    "\n",
    "train_losses = []\n",
    "test_losses = []\n",
    "\n",
    "patience = 10\n",
    "best_loss = float('inf')\n",
    "epochs_no_improve = 0\n",
    "\n",
    "criterion = nn.BCEWithLogitsLoss()\n",
    "optimizer = optim.Adam(model.parameters(), lr=learning_rate)"
   ]
  },
  {
   "cell_type": "code",
   "execution_count": 13,
   "metadata": {},
   "outputs": [
    {
     "name": "stdout",
     "output_type": "stream",
     "text": [
      "Epoch [10/50], Train Loss: 0.6433, Validation Loss: 0.6729\n",
      "Epoch [20/50], Train Loss: 0.5617, Validation Loss: 0.6753\n",
      "Early stopping at epoch 26\n"
     ]
    },
    {
     "name": "stderr",
     "output_type": "stream",
     "text": [
      "FutureWarning: You are using `torch.load` with `weights_only=False` (the current default value), which uses the default pickle module implicitly. It is possible to construct malicious pickle data which will execute arbitrary code during unpickling (See https://github.com/pytorch/pytorch/blob/main/SECURITY.md#untrusted-models for more details). In a future release, the default value for `weights_only` will be flipped to `True`. This limits the functions that could be executed during unpickling. Arbitrary objects will no longer be allowed to be loaded via this mode unless they are explicitly allowlisted by the user via `torch.serialization.add_safe_globals`. We recommend you start setting `weights_only=True` for any use case where you don't have full control of the loaded file. Please open an issue on GitHub for any issues related to this experimental feature.\n"
     ]
    },
    {
     "data": {
      "text/plain": [
       "<All keys matched successfully>"
      ]
     },
     "execution_count": 13,
     "metadata": {},
     "output_type": "execute_result"
    }
   ],
   "source": [
    "for epoch in range(epochs):\n",
    "    model.train()\n",
    "    train_loss = 0\n",
    "\n",
    "    for data, label in train_loader:\n",
    "        data = data.float()\n",
    "        label = label.unsqueeze(-1).float()\n",
    "\n",
    "        optimizer.zero_grad()\n",
    "        output = model(data)\n",
    "        loss = criterion(output, label)\n",
    "        loss.backward()\n",
    "        optimizer.step()\n",
    "\n",
    "        train_loss += loss.item()\n",
    "\n",
    "    train_loss /= len(train_loader)\n",
    "    train_losses.append(train_loss)\n",
    "\n",
    "    model.eval()\n",
    "    val_loss = 0\n",
    "    with torch.no_grad():\n",
    "        for data, label in test_loader:\n",
    "            data = data.float()\n",
    "            label = label.unsqueeze(-1).float()\n",
    "            output = model(data)\n",
    "            loss = criterion(output, label)\n",
    "            val_loss += loss.item()\n",
    "\n",
    "    val_loss /= len(test_loader)\n",
    "    test_losses.append(val_loss)\n",
    "\n",
    "    if val_loss < best_loss:\n",
    "        best_loss = val_loss\n",
    "        epochs_no_improve = 0\n",
    "        torch.save(model.state_dict(), 'best_gru_model.pth')\n",
    "    else:\n",
    "        epochs_no_improve += 1\n",
    "        if epochs_no_improve >= patience:\n",
    "            print(f'Early stopping at epoch {epoch + 1}')\n",
    "            break\n",
    "\n",
    "    if (epoch + 1) % 10 == 0:\n",
    "        print(f'Epoch [{epoch + 1}/{epochs}], Train Loss: {train_loss:.4f}, Validation Loss: {val_loss:.4f}')\n",
    "\n",
    "model.load_state_dict(torch.load('best_gru_model.pth'))"
   ]
  },
  {
   "cell_type": "code",
   "execution_count": 15,
   "metadata": {},
   "outputs": [],
   "source": [
    "from hsml.schema import Schema\n",
    "from hsml.model_schema import ModelSchema"
   ]
  },
  {
   "cell_type": "code",
   "execution_count": 16,
   "metadata": {},
   "outputs": [
    {
     "name": "stdout",
     "output_type": "stream",
     "text": [
      "Connected. Call `.close()` to terminate connection gracefully.\n"
     ]
    }
   ],
   "source": [
    "mr = project.get_model_registry()\n",
    "\n",
    "input_schema = Schema([\n",
    "    {\"name\": \"sequence_data\", \"type\": \"tensor\", \"shape\": [-1, sequence_length, combined_features.shape[1]]}\n",
    "])\n",
    "output_schema = Schema([\n",
    "    {\"name\": \"price_movement_prediction\", \"type\": \"tensor\", \"shape\": [-1, output_size]}\n",
    "])\n",
    "model_schema = ModelSchema(input_schema, output_schema)"
   ]
  },
  {
   "cell_type": "code",
   "execution_count": 17,
   "metadata": {},
   "outputs": [],
   "source": [
    "import os\n",
    "model_dir = \"model\"\n",
    "if not os.path.isdir(model_dir):\n",
    "    os.mkdir(model_dir)\n",
    "\n",
    "torch.save(model.state_dict(), model_dir + \"/bitcoin_price_movement_prediction_gru.pth\")"
   ]
  },
  {
   "cell_type": "code",
   "execution_count": 19,
   "metadata": {},
   "outputs": [
    {
     "name": "stderr",
     "output_type": "stream",
     "text": [
      "Uploading: 100.000%|██████████| 18676/18676 elapsed<00:01 remaining<00:001,  3.27it/s]\n",
      "Uploading: 100.000%|██████████| 23678/23678 elapsed<00:01 remaining<00:001,  3.27it/s]\n",
      "Uploading: 100.000%|██████████| 27275825/27275825 elapsed<00:06 remaining<00:0027it/s]\n",
      "Uploading: 100.000%|██████████| 235427/235427 elapsed<00:02 remaining<00:00  3.27it/s]\n",
      "Uploading: 100.000%|██████████| 22874/22874 elapsed<00:01 remaining<00:0029,  7.36s/it]\n",
      "Uploading: 100.000%|██████████| 352/352 elapsed<00:01 remaining<00:00\n",
      "Model export complete: 100%|██████████| 6/6 [00:21<00:00,  3.56s/it]                   "
     ]
    },
    {
     "name": "stdout",
     "output_type": "stream",
     "text": [
      "Model created, explore it at https://c.app.hopsworks.ai:443/p/556181/models/bitcoin_price_movement_prediction_model_gru/1\n"
     ]
    },
    {
     "name": "stderr",
     "output_type": "stream",
     "text": [
      "\n"
     ]
    },
    {
     "data": {
      "text/plain": [
       "Model(name: 'bitcoin_price_movement_prediction_model_gru', version: 1)"
      ]
     },
     "execution_count": 19,
     "metadata": {},
     "output_type": "execute_result"
    }
   ],
   "source": [
    "gru_model_bitcoin = mr.python.create_model(\n",
    "    name=\"bitcoin_price_movement_prediction_model_gru\",\n",
    "    metrics={\n",
    "        \"train_loss\": train_losses[-1],\n",
    "        \"val_loss\": test_losses[-1]\n",
    "    },\n",
    "    model_schema=model_schema,\n",
    "    input_example={\"sequence_data\": torch.randn(1, sequence_length, combined_features.shape[1]).tolist()}\n",
    ")\n",
    "gru_model_bitcoin.save(model_dir)"
   ]
  }
 ],
 "metadata": {
  "kernelspec": {
   "display_name": "Python 3",
   "language": "python",
   "name": "python3"
  },
  "language_info": {
   "codemirror_mode": {
    "name": "ipython",
    "version": 3
   },
   "file_extension": ".py",
   "mimetype": "text/x-python",
   "name": "python",
   "nbconvert_exporter": "python",
   "pygments_lexer": "ipython3",
   "version": "3.11.9"
  }
 },
 "nbformat": 4,
 "nbformat_minor": 2
}
