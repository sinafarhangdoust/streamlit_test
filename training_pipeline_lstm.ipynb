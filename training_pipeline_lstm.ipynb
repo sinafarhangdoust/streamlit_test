{
 "cells": [
  {
   "cell_type": "code",
   "execution_count": 1,
   "metadata": {},
   "outputs": [
    {
     "name": "stderr",
     "output_type": "stream",
     "text": [
      "C:\\Users\\hubak\\AppData\\Local\\Packages\\PythonSoftwareFoundation.Python.3.11_qbz5n2kfra8p0\\LocalCache\\local-packages\\Python311\\site-packages\\tqdm\\auto.py:21: TqdmWarning: IProgress not found. Please update jupyter and ipywidgets. See https://ipywidgets.readthedocs.io/en/stable/user_install.html\n",
      "  from .autonotebook import tqdm as notebook_tqdm\n"
     ]
    },
    {
     "name": "stdout",
     "output_type": "stream",
     "text": [
      "Connected. Call `.close()` to terminate connection gracefully.\n",
      "\n",
      "Logged in to project, explore it here https://c.app.hopsworks.ai:443/p/556181\n",
      "Connected. Call `.close()` to terminate connection gracefully.\n"
     ]
    }
   ],
   "source": [
    "import hopsworks\n",
    "\n",
    "project = hopsworks.login()\n",
    "\n",
    "fs = project.get_feature_store()"
   ]
  },
  {
   "cell_type": "code",
   "execution_count": 2,
   "metadata": {},
   "outputs": [],
   "source": [
    "bitcoin_fg = fs.get_feature_group(\n",
    "    name='bitcoin_price_movement',\n",
    "    version=2\n",
    ")"
   ]
  },
  {
   "cell_type": "code",
   "execution_count": 3,
   "metadata": {},
   "outputs": [],
   "source": [
    "training_data = bitcoin_fg.select_all()"
   ]
  },
  {
   "cell_type": "code",
   "execution_count": 4,
   "metadata": {},
   "outputs": [],
   "source": [
    "version = 2\n",
    "feature_view_training = fs.get_or_create_feature_view(\n",
    "    name='bitcoin_price_movement_training_fv',\n",
    "    version=version,\n",
    "    query=training_data\n",
    ")"
   ]
  },
  {
   "cell_type": "code",
   "execution_count": 5,
   "metadata": {},
   "outputs": [
    {
     "name": "stdout",
     "output_type": "stream",
     "text": [
      "Finished: Reading data from Hopsworks, using ArrowFlight (1.30s) \n"
     ]
    },
    {
     "name": "stderr",
     "output_type": "stream",
     "text": [
      "VersionWarning: Incremented version to `6`.\n"
     ]
    }
   ],
   "source": [
    "X, _ = feature_view_training.training_data(\n",
    "    description='Training data for the prediction system from the historically available data.'\n",
    ")"
   ]
  },
  {
   "cell_type": "code",
   "outputs": [
    {
     "name": "stderr",
     "output_type": "stream",
     "text": [
      "[*********************100%%**********************]  1 of 1 completed\n",
      "[*********************100%%**********************]  1 of 1 completed\n",
      "/Users/sinafarhangdoust/Desktop/mlopsbds/features/feature_engineering.py:45: FutureWarning: Series.fillna with 'method' is deprecated and will raise in a future version. Use obj.ffill() or obj.bfill() instead.\n",
      "  df_merged[f'close{column_suffix}'].fillna(method='ffill', inplace=True)\n",
      "[*********************100%%**********************]  1 of 1 completed\n",
      "[*********************100%%**********************]  1 of 1 completed\n",
      "/Users/sinafarhangdoust/Desktop/mlopsbds/features/feature_engineering.py:45: FutureWarning: Series.fillna with 'method' is deprecated and will raise in a future version. Use obj.ffill() or obj.bfill() instead.\n",
      "  df_merged[f'close{column_suffix}'].fillna(method='ffill', inplace=True)\n",
      "/Users/sinafarhangdoust/Desktop/mlopsbds/features/feature_engineering.py:45: FutureWarning: Series.fillna with 'method' is deprecated and will raise in a future version. Use obj.ffill() or obj.bfill() instead.\n",
      "  df_merged[f'close{column_suffix}'].fillna(method='ffill', inplace=True)\n",
      "/Users/sinafarhangdoust/Desktop/mlopsbds/features/feature_engineering.py:81: FutureWarning: Series.fillna with 'method' is deprecated and will raise in a future version. Use obj.ffill() or obj.bfill() instead.\n",
      "  df_merged['hash_rate'].fillna(method='ffill', inplace=True)\n"
     ]
    }
   ],
   "source": [
    "import datetime as dt\n",
    "from features import feature_engineering\n",
    "\n",
    "start_date = dt.date(2016,1,1)\n",
    "end_date = dt.date.today() - dt.timedelta(days=1)\n",
    "X = feature_engineering.prepare_data(start_date=start_date, end_date=end_date)"
   ],
   "metadata": {
    "collapsed": false,
    "ExecuteTime": {
     "end_time": "2024-08-12T17:47:57.319258Z",
     "start_time": "2024-08-12T17:47:56.981808Z"
    }
   },
   "execution_count": 13
  },
  {
   "cell_type": "code",
   "execution_count": 14,
   "metadata": {
    "ExecuteTime": {
     "end_time": "2024-08-12T17:48:00.076335Z",
     "start_time": "2024-08-12T17:48:00.071504Z"
    }
   },
   "outputs": [],
   "source": [
    "import pandas as pd\n",
    "pd.options.display.float_format = '{:.4f}'.format\n",
    "sorted_X = X.sort_values(by='id')\n",
    "sorted_X['date'] = pd.to_datetime(sorted_X['date'])"
   ]
  },
  {
   "cell_type": "code",
   "execution_count": 15,
   "metadata": {
    "ExecuteTime": {
     "end_time": "2024-08-12T17:48:01.590675Z",
     "start_time": "2024-08-12T17:48:01.589195Z"
    }
   },
   "outputs": [],
   "source": [
    "final_X = sorted_X.drop(columns=['id', 'date'])"
   ]
  },
  {
   "cell_type": "code",
   "execution_count": 16,
   "metadata": {
    "ExecuteTime": {
     "end_time": "2024-08-12T17:48:03.070788Z",
     "start_time": "2024-08-12T17:48:03.049851Z"
    }
   },
   "outputs": [],
   "source": [
    "import numpy as np\n",
    "high_prices = final_X.loc[:, 'high'].values\n",
    "low_prices = final_X.loc[:, 'low'].values\n",
    "mid_prices = (high_prices + low_prices) / 2.0\n",
    "\n",
    "mid_price_changes = np.diff(mid_prices) / mid_prices[:-1] * 100\n",
    "mid_price_changes = np.insert(mid_price_changes, 0, 0)\n",
    "\n",
    "features = final_X[['volume', 'ma7', 'ma21', 'bollinger_upper', 'bollinger_lower', 'volatility', 'close_usd_index', 'close_oil', 'close_gold', 'hash_rate']].values\n",
    "feature_changes = np.diff(features, axis=0) / features[:-1] * 100\n",
    "feature_changes = np.insert(feature_changes, 0, 0, axis=0)\n",
    "\n",
    "combined_features = np.column_stack((mid_price_changes.reshape(-1, 1), feature_changes))"
   ]
  },
  {
   "cell_type": "code",
   "execution_count": 17,
   "metadata": {
    "ExecuteTime": {
     "end_time": "2024-08-12T17:48:04.791271Z",
     "start_time": "2024-08-12T17:48:04.784623Z"
    }
   },
   "outputs": [],
   "source": [
    "sequence_length = 100\n",
    "sequence_data = []\n",
    "sequence_labels = []\n",
    "\n",
    "for i in range(len(combined_features) - sequence_length):\n",
    "    sequence_data.append(combined_features[i:i + sequence_length])\n",
    "    # Labels based on whether the next mid_price_change is positive (1) or negative (0)\n",
    "    sequence_labels.append(1 if mid_price_changes[i + sequence_length] > 0 else 0)\n",
    "\n",
    "sequence_data = np.array(sequence_data)\n",
    "sequence_labels = np.array(sequence_labels)"
   ]
  },
  {
   "cell_type": "code",
   "execution_count": 18,
   "metadata": {
    "ExecuteTime": {
     "end_time": "2024-08-12T17:48:06.804464Z",
     "start_time": "2024-08-12T17:48:06.802796Z"
    }
   },
   "outputs": [],
   "source": [
    "import torch\n",
    "import torch.nn as nn\n",
    "import torch.optim as optim\n",
    "from torch.utils.data import DataLoader, TensorDataset\n",
    "from sklearn.metrics import classification_report"
   ]
  },
  {
   "cell_type": "code",
   "execution_count": 19,
   "metadata": {
    "ExecuteTime": {
     "end_time": "2024-08-12T17:48:08.809453Z",
     "start_time": "2024-08-12T17:48:08.807676Z"
    }
   },
   "outputs": [],
   "source": [
    "# Splitting the data into training and test sets, split at 80% of the data\n",
    "split_index = int(len(sequence_data) * 0.8)\n",
    "train_data = sequence_data[:split_index]\n",
    "train_labels = sequence_labels[:split_index]\n",
    "test_data = sequence_data[split_index:]\n",
    "test_labels = sequence_labels[split_index:]\n",
    "\n",
    "# We need to convert the to PyTorch tensors format in order for the model to work efficiently\n",
    "train_data = TensorDataset(torch.from_numpy(train_data), torch.from_numpy(train_labels))\n",
    "test_data = TensorDataset(torch.from_numpy(test_data), torch.from_numpy(test_labels))\n",
    "\n",
    "train_loader = DataLoader(train_data, batch_size=32, shuffle=True)\n",
    "test_loader = DataLoader(test_data, batch_size=32, shuffle=False)"
   ]
  },
  {
   "cell_type": "code",
   "execution_count": 34,
   "metadata": {
    "ExecuteTime": {
     "end_time": "2024-08-12T18:01:46.492891Z",
     "start_time": "2024-08-12T18:01:46.482199Z"
    }
   },
   "outputs": [],
   "source": [
    "# Creating LSTM model class, which defines the model's structure\n",
    "# We added dropout layer too, to try to tackle overfitting problem\n",
    "\n",
    "device = torch.device(\"mps\" if torch.backends.mps.is_available() else \"cpu\")\n",
    "\n",
    "class LSTMModel(nn.Module):\n",
    "    def __init__(self, input_size, hidden_size, output_size):\n",
    "        super(LSTMModel, self).__init__()\n",
    "        self.lstm = nn.LSTM(input_size, hidden_size, batch_first=True)\n",
    "        self.fc = nn.Linear(hidden_size, output_size)\n",
    "        self.dropout = nn.Dropout(0.2)\n",
    "\n",
    "    def forward(self, x):\n",
    "        lstm_out, _ = self.lstm(x)\n",
    "        out = self.fc(self.dropout(lstm_out[:, -1, :]))\n",
    "        return out\n",
    "\n",
    "# Setting the input size of the model to match the number of features\n",
    "# Setting the number of neurons (hidden size) to 50\n",
    "# Setting the size of the output to 1, indicating that we will predict a single value (increase or decrease of the price)\n",
    "input_size = combined_features.shape[1]\n",
    "hidden_size = 30\n",
    "output_size = 1\n",
    "\n",
    "model = LSTMModel(input_size, hidden_size, output_size).to(device)\n",
    "\n",
    "# Hyperparameters\n",
    "epochs = 500\n",
    "learning_rate = 0.0002\n",
    "\n",
    "train_losses = []\n",
    "test_losses = []\n",
    "\n",
    "# Early stopping parameters, these are added because early stopping method can reduce the risk of overfitting\n",
    "# Early stopping stops the training process when the model's performance doesn't improve on a validation set anymore\n",
    "# The patience parameter tells us through how many epochs we wait for improvement. If no improvement can be seen after 10, the training stops\n",
    "# We track the loss of the model and stop when we don't see improvement on it\n",
    "patience = 10\n",
    "best_loss = float('inf')\n",
    "epochs_no_improve = 0\n",
    "\n",
    "# We use Binary Cross Entropy Loss function and combine it with a sigmoid layer in one function, which is needed for the classification problem\n",
    "# We use Adam optimiser to adjust the parameters of the model to minimise loss during training\n",
    "criterion = nn.BCEWithLogitsLoss()\n",
    "optimizer = optim.Adam(model.parameters(), lr=learning_rate)"
   ]
  },
  {
   "cell_type": "code",
   "execution_count": 35,
   "metadata": {
    "ExecuteTime": {
     "end_time": "2024-08-12T18:03:09.339945Z",
     "start_time": "2024-08-12T18:01:47.963657Z"
    }
   },
   "outputs": [
    {
     "name": "stdout",
     "output_type": "stream",
     "text": [
      "Epoch [10/500], Train Loss: 0.6800, Validation Loss: 0.6857\n",
      "Epoch [20/500], Train Loss: 0.6639, Validation Loss: 0.6810\n",
      "Epoch [30/500], Train Loss: 0.6493, Validation Loss: 0.6747\n",
      "Epoch [40/500], Train Loss: 0.6286, Validation Loss: 0.6689\n",
      "Epoch [50/500], Train Loss: 0.6126, Validation Loss: 0.6635\n",
      "Epoch [60/500], Train Loss: 0.5971, Validation Loss: 0.6600\n",
      "Epoch [70/500], Train Loss: 0.5740, Validation Loss: 0.6588\n",
      "Epoch [80/500], Train Loss: 0.5610, Validation Loss: 0.6572\n",
      "Epoch [90/500], Train Loss: 0.5476, Validation Loss: 0.6565\n",
      "Epoch [100/500], Train Loss: 0.5393, Validation Loss: 0.6577\n",
      "Early stopping at epoch 105\n"
     ]
    },
    {
     "name": "stderr",
     "output_type": "stream",
     "text": [
      "/var/folders/3m/6yf1r5jj69v13h9z_ttwp7ch0000gn/T/ipykernel_65247/647452028.py:48: FutureWarning: You are using `torch.load` with `weights_only=False` (the current default value), which uses the default pickle module implicitly. It is possible to construct malicious pickle data which will execute arbitrary code during unpickling (See https://github.com/pytorch/pytorch/blob/main/SECURITY.md#untrusted-models for more details). In a future release, the default value for `weights_only` will be flipped to `True`. This limits the functions that could be executed during unpickling. Arbitrary objects will no longer be allowed to be loaded via this mode unless they are explicitly allowlisted by the user via `torch.serialization.add_safe_globals`. We recommend you start setting `weights_only=True` for any use case where you don't have full control of the loaded file. Please open an issue on GitHub for any issues related to this experimental feature.\n",
      "  model.load_state_dict(torch.load('best_model.pth'))\n"
     ]
    },
    {
     "data": {
      "text/plain": "<All keys matched successfully>"
     },
     "execution_count": 35,
     "metadata": {},
     "output_type": "execute_result"
    }
   ],
   "source": [
    "# Training loop for the model through the number of epochs, with early stopping method\n",
    "for epoch in range(epochs):\n",
    "    model.train()\n",
    "    train_loss = 0\n",
    "\n",
    "    for data, label in train_loader:\n",
    "        data = data.float().to(device)\n",
    "        label = label.unsqueeze(-1).float().to(device)\n",
    "\n",
    "        optimizer.zero_grad()\n",
    "        output = model(data)\n",
    "        loss = criterion(output, label)\n",
    "        loss.backward()\n",
    "        optimizer.step()\n",
    "\n",
    "        train_loss += loss.item()\n",
    "\n",
    "    train_loss /= len(train_loader)\n",
    "    train_losses.append(train_loss)\n",
    "\n",
    "    # Early stopping\n",
    "    model.eval()\n",
    "    val_loss = 0\n",
    "    with torch.no_grad():\n",
    "        for data, label in test_loader:\n",
    "            data = data.float().to(device)\n",
    "            label = label.unsqueeze(-1).float().to(device)\n",
    "            output = model(data)\n",
    "            loss = criterion(output, label)\n",
    "            val_loss += loss.item()\n",
    "\n",
    "    val_loss /= len(test_loader)\n",
    "    test_losses.append(val_loss)\n",
    "\n",
    "    if val_loss < best_loss:\n",
    "        best_loss = val_loss\n",
    "        epochs_no_improve = 0\n",
    "        torch.save(model.state_dict(), './lstm_model/best_model.pth')\n",
    "    else:\n",
    "        epochs_no_improve += 1\n",
    "        if epochs_no_improve >= patience:\n",
    "            print(f'Early stopping at epoch {epoch + 1}')\n",
    "            break\n",
    "\n",
    "    if (epoch + 1) % 10 == 0:\n",
    "        print(f'Epoch [{epoch + 1}/{epochs}], Train Loss: {train_loss:.4f}, Validation Loss: {val_loss:.4f}')\n",
    "\n",
    "model.load_state_dict(torch.load('best_model.pth'))"
   ]
  },
  {
   "cell_type": "code",
   "execution_count": 15,
   "metadata": {},
   "outputs": [],
   "source": [
    "from hsml.schema import Schema\n",
    "from hsml.model_schema import ModelSchema"
   ]
  },
  {
   "cell_type": "code",
   "execution_count": 16,
   "metadata": {},
   "outputs": [
    {
     "name": "stdout",
     "output_type": "stream",
     "text": [
      "Connected. Call `.close()` to terminate connection gracefully.\n"
     ]
    }
   ],
   "source": [
    "mr = project.get_model_registry()\n",
    "\n",
    "input_schema = Schema([\n",
    "    {\"name\": \"sequence_data\", \"type\": \"tensor\", \"shape\": [-1, sequence_length, combined_features.shape[1]]}\n",
    "])\n",
    "output_schema = Schema([\n",
    "    {\"name\": \"price_movement_prediction\", \"type\": \"tensor\", \"shape\": [-1, output_size]}\n",
    "])\n",
    "model_schema = ModelSchema(input_schema, output_schema)"
   ]
  },
  {
   "cell_type": "code",
   "execution_count": 17,
   "metadata": {},
   "outputs": [],
   "source": [
    "import os\n",
    "model_dir = \"model\"\n",
    "if not os.path.isdir(model_dir):\n",
    "    os.mkdir(model_dir)\n",
    "\n",
    "torch.save(model.state_dict(), model_dir + \"/bitcoin_price_movement_prediction_lstm.pth\")"
   ]
  },
  {
   "cell_type": "code",
   "execution_count": 19,
   "metadata": {},
   "outputs": [
    {
     "name": "stderr",
     "output_type": "stream",
     "text": [
      "Uploading: 100.000%|██████████| 23678/23678 elapsed<00:09 remaining<00:001,  3.06it/s]\n",
      "Uploading: 100.000%|██████████| 27275825/27275825 elapsed<00:58 remaining<00:0006it/s]\n",
      "Uploading: 100.000%|██████████| 235427/235427 elapsed<00:01 remaining<00:00  3.06it/s]\n",
      "Uploading: 100.000%|██████████| 22912/22912 elapsed<00:01 remaining<00:0045, 41.47s/it]\n",
      "Uploading: 100.000%|██████████| 352/352 elapsed<00:01 remaining<00:00\n",
      "Model export complete: 100%|██████████| 6/6 [01:19<00:00, 13.23s/it]                   "
     ]
    },
    {
     "name": "stdout",
     "output_type": "stream",
     "text": [
      "Model created, explore it at https://c.app.hopsworks.ai:443/p/556181/models/bitcoin_price_movement_prediction_model_lstm/1\n"
     ]
    },
    {
     "name": "stderr",
     "output_type": "stream",
     "text": [
      "\n"
     ]
    },
    {
     "data": {
      "text/plain": [
       "Model(name: 'bitcoin_price_movement_prediction_model_lstm', version: 1)"
      ]
     },
     "execution_count": 19,
     "metadata": {},
     "output_type": "execute_result"
    }
   ],
   "source": [
    "lstm_model_bitcoin = mr.python.create_model(\n",
    "    name=\"bitcoin_price_movement_prediction_model_lstm\",\n",
    "    metrics={\n",
    "        \"train_loss\": train_losses[-1],\n",
    "        \"val_loss\": test_losses[-1]\n",
    "    },\n",
    "    model_schema=model_schema,\n",
    "    input_example={\"sequence_data\": torch.randn(1, sequence_length, combined_features.shape[1]).tolist()}\n",
    ")\n",
    "lstm_model_bitcoin.save(model_dir)"
   ]
  }
 ],
 "metadata": {
  "kernelspec": {
   "display_name": "Python 3",
   "language": "python",
   "name": "python3"
  },
  "language_info": {
   "codemirror_mode": {
    "name": "ipython",
    "version": 3
   },
   "file_extension": ".py",
   "mimetype": "text/x-python",
   "name": "python",
   "nbconvert_exporter": "python",
   "pygments_lexer": "ipython3",
   "version": "3.11.9"
  }
 },
 "nbformat": 4,
 "nbformat_minor": 2
}
